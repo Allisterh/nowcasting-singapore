{
 "cells": [
  {
   "cell_type": "markdown",
   "id": "cdbe285d",
   "metadata": {},
   "source": [
    "https://www.statsmodels.org/dev/generated/statsmodels.tsa.statespace.dynamic_factor_mq.DynamicFactorMQ.html\n",
    "<br>https://medium.com/@philippetousignant/dynamic-factor-models-in-python-58d2d5252640\n",
    "<br>https://www.ecb.europa.eu/pub/pdf/scpwps/ecbwp1564.pdf"
   ]
  },
  {
   "cell_type": "code",
   "execution_count": null,
   "id": "9b8af0e0",
   "metadata": {},
   "outputs": [],
   "source": [
    "import datetime\n",
    "import requests\n",
    "import pandas as pd\n",
    "import numpy as np\n",
    "from statsmodels.tsa.stattools import adfuller\n",
    "import statsmodels.tsa.api as sm\n",
    "import matplotlib.pyplot as plt\n",
    "from sklearn.metrics import mean_squared_error as mse\n",
    "import warnings\n",
    "from statsmodels.tsa.arima.model import ARIMA"
   ]
  },
  {
   "cell_type": "markdown",
   "id": "1be00d76",
   "metadata": {},
   "source": [
    "Static data"
   ]
  },
  {
   "cell_type": "code",
   "execution_count": null,
   "id": "6d11a5ca",
   "metadata": {},
   "outputs": [],
   "source": [
    "source_file = 'Data Sources.csv'"
   ]
  },
  {
   "cell_type": "code",
   "execution_count": null,
   "id": "c910c5e4",
   "metadata": {},
   "outputs": [],
   "source": [
    "train_ratio = 0.8\n",
    "max_factors, max_lags = 5, 2\n",
    "max_ar = 9\n",
    "forecast_steps = 1"
   ]
  },
  {
   "cell_type": "markdown",
   "id": "f0fd9bc6",
   "metadata": {},
   "source": [
    "Classes and functions"
   ]
  },
  {
   "cell_type": "code",
   "execution_count": null,
   "id": "1ae5ac71",
   "metadata": {},
   "outputs": [],
   "source": [
    "class Variables:\n",
    "    def __init__(self, df):\n",
    "        self.dep = df[df['Dependent']=='Y']['Name'].tolist()\n",
    "\n",
    "        self.indep = df[df['Dependent']!='Y']['Name'].tolist()\n",
    "        self.indep = [i for i in self.indep if 'business expectations' not in i.lower()]\n",
    "\n",
    "        self.freq = dict(zip(df['Name'],df['Frequency']))\n",
    "\n",
    "        self.non_stat = []"
   ]
  },
  {
   "cell_type": "code",
   "execution_count": null,
   "id": "c63952fb",
   "metadata": {},
   "outputs": [],
   "source": [
    "def get_dos(url):\n",
    "    response = requests.get(url=url).json()\n",
    "    return({i['Key']:float(i['Value']) for i in response})"
   ]
  },
  {
   "cell_type": "code",
   "execution_count": null,
   "id": "b9890fbf",
   "metadata": {},
   "outputs": [],
   "source": [
    "def get_sgx(url):\n",
    "    data = {}\n",
    "    response = requests.get(url=url).json()\n",
    "    for d in response['data']:\n",
    "        date = d['trading_time'].split('_')[0]\n",
    "        date = datetime.datetime.strptime(date, '%Y%m%d').date()\n",
    "        data[date] = float(d['lp'])\n",
    "    return(data)"
   ]
  },
  {
   "cell_type": "code",
   "execution_count": null,
   "id": "16d0c9f3",
   "metadata": {},
   "outputs": [],
   "source": [
    "def get_mas(url, params={'fields':'end_of_month,m1','limit':100,'offset':0}):\n",
    "    response = requests.get(url=url, params=params).json()\n",
    "\n",
    "    no_records = int(response['result']['total'])\n",
    "    pagesize = int(response['result']['limit'])\n",
    "    pages = no_records//pagesize + (no_records%pagesize>0)\n",
    "\n",
    "    # parse first page\n",
    "    data = {}\n",
    "    for i in response['result']['records']:\n",
    "        data[i['end_of_month']] = float(i['m1'])\n",
    "\n",
    "    # parse rest of data to get complete series\n",
    "    for i in range(1,pages):\n",
    "        params['offset'] = i*100\n",
    "        response = requests.get(url=url, params=params).json()\n",
    "        for i in response['result']['records']:\n",
    "            data[i['end_of_month']] = float(i['m1'])\n",
    "\n",
    "    return(data)"
   ]
  },
  {
   "cell_type": "code",
   "execution_count": null,
   "id": "901a0b97",
   "metadata": {},
   "outputs": [],
   "source": [
    "def run_df(data, no_factors, f_lags):\n",
    "    try:\n",
    "        model = sm.DynamicFactorMQ(endog=data,\n",
    "                                   k_endog_monthly=len([k for k,v in variables.freq.items() if v=='M']),\n",
    "                                   factors=no_factors, factor_orders=f_lags,\n",
    "                                   idiosyncratic_ar1=True)\n",
    "        results = model.fit(maxiter=100, disp=False)\n",
    "        return(results)\n",
    "\n",
    "    except UserWarning:\n",
    "        return(None)"
   ]
  },
  {
   "cell_type": "code",
   "execution_count": null,
   "id": "e3e6ee8d",
   "metadata": {},
   "outputs": [],
   "source": [
    "def find_min_ic(models_dict):\n",
    "    # info criterion type: (model specifications, info criterion value)\n",
    "    ic_min = {ic:(None,float('inf')) for ic in ics}\n",
    "\n",
    "    # k: model specifications, v: model object\n",
    "    for k,v in models_dict.items():\n",
    "        for ic,val in ic_min.items():\n",
    "            if v[ic]<ic_min[ic][1]:\n",
    "                ic_min[ic] = (k,v[ic])\n",
    "    return(ic_min)"
   ]
  },
  {
   "cell_type": "code",
   "execution_count": null,
   "id": "966152f6",
   "metadata": {},
   "outputs": [],
   "source": [
    "def compare(actual_df, predict_df):\n",
    "    compare_df = pd.DataFrame(actual_df[variables.dep].dropna().values,\n",
    "                              index=actual_df[variables.dep].dropna().index,\n",
    "                              columns=['Actual'])\n",
    "\n",
    "    compare_df = compare_df.merge(predict_df[variables.dep].rename(columns={variables.dep[0]:'Predicted'}),\n",
    "                                  how='left', left_index=True, right_index=True)\n",
    "    return(compare_df)"
   ]
  },
  {
   "cell_type": "code",
   "execution_count": null,
   "id": "452ae530",
   "metadata": {},
   "outputs": [],
   "source": [
    "def split_train_test(data, train_prop):\n",
    "    train_no_rows = round(train_prop * len(data))\n",
    "    train_df = data.iloc[:train_no_rows]\n",
    "    test_df = data.iloc[train_no_rows:]\n",
    "    return(train_df, test_df)"
   ]
  },
  {
   "cell_type": "code",
   "execution_count": null,
   "id": "9f5f5e81",
   "metadata": {},
   "outputs": [],
   "source": [
    "def run_train_test(full_data, train_data, forecast_steps, factor, lag):\n",
    "    fc_df = pd.DataFrame()\n",
    "    model = run_df(train_data, factor, lag)\n",
    "    if not model:\n",
    "        return(None) # exit func if model does not converge\n",
    "\n",
    "    for i in range(-(len(full_data)-len(train_data)), 0, forecast_steps):\n",
    "        model = model.apply(endog=full_data.iloc[:i])\n",
    "        forecast = model.forecast(steps=forecast_steps)\n",
    "        fc_df = pd.concat([fc_df, forecast])\n",
    "\n",
    "    export = {'model':model, 'forecasts':fc_df}\n",
    "\n",
    "    for ic in ics:\n",
    "        export[ic] = getattr(model, ic)\n",
    "\n",
    "    return(export)"
   ]
  },
  {
   "cell_type": "markdown",
   "id": "adcfa47a",
   "metadata": {},
   "source": [
    "Load raw data"
   ]
  },
  {
   "cell_type": "code",
   "execution_count": null,
   "id": "b3a51237",
   "metadata": {},
   "outputs": [],
   "source": [
    "sources = pd.read_csv(source_file, encoding='utf-8')\n",
    "variables = Variables(sources)"
   ]
  },
  {
   "cell_type": "code",
   "execution_count": null,
   "id": "e7865199",
   "metadata": {
    "scrolled": true
   },
   "outputs": [],
   "source": [
    "variables.__dict__.keys()"
   ]
  },
  {
   "cell_type": "code",
   "execution_count": null,
   "id": "a8f8c473",
   "metadata": {},
   "outputs": [],
   "source": [
    "requests_funcs = {'mas':get_mas, 'sgx':get_sgx, 'singstat':get_dos}"
   ]
  },
  {
   "cell_type": "code",
   "execution_count": null,
   "id": "f83b77e9",
   "metadata": {},
   "outputs": [],
   "source": [
    "apis = {'mas':[], 'sgx':[], 'singstat':[]}\n",
    "for k in apis.keys():\n",
    "    for i in zip(sources['Name'], sources['Frequency'], sources['API']):\n",
    "        if k in i[-1]:\n",
    "            apis[k].append({'Name':i[0], 'Frequency':i[1], 'API':i[2]})"
   ]
  },
  {
   "cell_type": "code",
   "execution_count": null,
   "id": "e359793f",
   "metadata": {
    "scrolled": true
   },
   "outputs": [],
   "source": [
    "# pull data\n",
    "ts_data = {}\n",
    "for k,v in apis.items():\n",
    "    for dim in v:\n",
    "        ts_data[dim['Name']] = requests_funcs[k](dim['API'])"
   ]
  },
  {
   "cell_type": "code",
   "execution_count": null,
   "id": "c6a6c314",
   "metadata": {},
   "outputs": [],
   "source": [
    "# pass data into pandas series\n",
    "ts_pd = {}\n",
    "for k,v in apis.items():\n",
    "    for dim in v:\n",
    "\n",
    "        if dim['Frequency']=='Q' and k=='singstat':\n",
    "            periods = [p.split()[0]+p.split()[-1][::-1] for p in list(ts_data[dim['Name']])]\n",
    "            periods = pd.PeriodIndex(periods, freq=dim['Frequency'])\n",
    "            ts_pd[dim['Name']] = pd.Series(ts_data[dim['Name']].values(), index=periods)\n",
    "\n",
    "        elif dim['Frequency']=='M':\n",
    "            periods = pd.to_datetime(list(ts_data[dim['Name']])) + pd.tseries.offsets.MonthEnd(0)\n",
    "            ts_pd[dim['Name']] = pd.Series(ts_data[dim['Name']].values(), index=periods)\n",
    "\n",
    "        elif dim['Frequency']=='D' and k=='sgx':\n",
    "            periods = pd.to_datetime(list(ts_data[dim['Name']]))\n",
    "            ts_pd[dim['Name']] = pd.Series(ts_data[dim['Name']].values(), index=periods).resample('M').last()\n",
    "            variables.freq[dim['Name']] = 'M' # update to 'M' since resampled"
   ]
  },
  {
   "cell_type": "code",
   "execution_count": null,
   "id": "2e9453d5",
   "metadata": {},
   "outputs": [],
   "source": [
    "list(ts_data)"
   ]
  },
  {
   "cell_type": "code",
   "execution_count": null,
   "id": "86f6a31b",
   "metadata": {},
   "outputs": [],
   "source": [
    "ts_data['Business Expectations Of The Manufacturing Sector - Forecast By Industry']"
   ]
  },
  {
   "cell_type": "markdown",
   "id": "8188da2f",
   "metadata": {},
   "source": [
    "Check and ensure series' stationarity"
   ]
  },
  {
   "cell_type": "code",
   "execution_count": null,
   "id": "2ed8c391",
   "metadata": {
    "scrolled": true
   },
   "outputs": [],
   "source": [
    "# if p-value >0.05, var is non-stationary\n",
    "for i in variables.indep:\n",
    "\n",
    "    # if unit root, take % yoy growth (which also removes seasonality)\n",
    "    if adfuller(ts_pd[i])[1]>0.05:\n",
    "\n",
    "        if variables.freq[i]=='M':\n",
    "            ts_pd[i] = ts_pd[i].pct_change(periods=12) * 100\n",
    "        elif variables.freq[i]=='Q':\n",
    "            ts_pd[i] = ts_pd[i].pct_change(periods=4) * 100\n",
    "        print(f'[Non-stationary] {i}')\n",
    "        variables.non_stat.append(i)\n",
    "\n",
    "    else:\n",
    "        print(f'[Stationary] {i}')"
   ]
  },
  {
   "cell_type": "markdown",
   "id": "b84f3141",
   "metadata": {},
   "source": [
    "Resample all series and pass into dataframe (order must be adhered to as defined by <i>statsmodels</i> docs):\n",
    "- dependent variable leftmost\n",
    "- monthly data in the first columns\n",
    "- quarterly data in the last columns"
   ]
  },
  {
   "cell_type": "code",
   "execution_count": null,
   "id": "a2743777",
   "metadata": {
    "scrolled": true
   },
   "outputs": [],
   "source": [
    "# resample all series to monthly and start from first valid index\n",
    "for series, freq in zip(sources['Name'], sources['Frequency']):\n",
    "\n",
    "    if freq=='Q':\n",
    "        ts_pd[series] = ts_pd[series].resample('M', convention='end').asfreq()\n",
    "        ts_pd[series].index = pd.to_datetime(ts_pd[series].index.strftime('%Y-%m-%d'))\n",
    "\n",
    "    if ts_pd[series].index[0]!=ts_pd[series].first_valid_index():\n",
    "        ts_pd[series] = ts_pd[series][ts_pd[series].first_valid_index():]"
   ]
  },
  {
   "cell_type": "code",
   "execution_count": null,
   "id": "ad0399b2",
   "metadata": {
    "scrolled": true
   },
   "outputs": [],
   "source": [
    "# pass all series into dataframe, start dataframe from first year of GDP growth data\n",
    "ts_df = pd.DataFrame(ts_pd)\n",
    "ts_df = ts_df.loc[ts_df.index.year>=ts_df.loc[:,variables.dep[0]].first_valid_index().year]\n",
    "\n",
    "# rearrange columns in correct order for factor modelling as explained in markdown above\n",
    "ts_df = ts_df[variables.dep+\\\n",
    "              [k for k,v in variables.freq.items() if v=='M' and k!=variables.dep[0]]+\\\n",
    "              [k for k,v in variables.freq.items() if v=='Q' and k!=variables.dep[0]]]\n",
    "ts_df"
   ]
  },
  {
   "cell_type": "markdown",
   "id": "b5443cb2",
   "metadata": {},
   "source": [
    "Explore data"
   ]
  },
  {
   "cell_type": "code",
   "execution_count": null,
   "id": "a566a7f0",
   "metadata": {},
   "outputs": [],
   "source": [
    "ts_df.describe().round(3)"
   ]
  },
  {
   "cell_type": "code",
   "execution_count": null,
   "id": "b35f9743",
   "metadata": {
    "scrolled": true
   },
   "outputs": [],
   "source": [
    "for i in list(ts_df):\n",
    "    plt.figure()\n",
    "    plt.title(i)\n",
    "    plt.plot(ts_df[i].fillna(method='ffill')) # fillna because quarterly data has blanks when freq=monthly\n",
    "    plt.tight_layout()"
   ]
  },
  {
   "cell_type": "markdown",
   "id": "23458ad9",
   "metadata": {},
   "source": [
    "Instantiate and fit DF model"
   ]
  },
  {
   "cell_type": "code",
   "execution_count": null,
   "id": "85c8b1e3",
   "metadata": {},
   "outputs": [],
   "source": [
    "# to catch warnings for models that do not converge\n",
    "warnings.filterwarnings('error', category=UserWarning)"
   ]
  },
  {
   "cell_type": "code",
   "execution_count": null,
   "id": "3b50a694",
   "metadata": {},
   "outputs": [],
   "source": [
    "ics = ['aic','bic','hqic']"
   ]
  },
  {
   "cell_type": "code",
   "execution_count": null,
   "id": "ff7b38f6",
   "metadata": {
    "scrolled": false
   },
   "outputs": [],
   "source": [
    "models = {}\n",
    "for factor in range(1, max_factors+1):\n",
    "    for lag in range(1, max_lags+1):\n",
    "        print(f'({factor}, {lag})', end=' ')\n",
    "        models[(factor,lag)] = {'model':run_df(ts_df, factor, lag)}\n",
    "\n",
    "        # if model converges, extract info criterions. if not, remove model from dict.\n",
    "        if models[(factor,lag)]['model']:\n",
    "            for ic in ics:\n",
    "                models[(factor,lag)][ic] = getattr(models[(factor, lag)]['model'], ic)\n",
    "        else:\n",
    "            models.pop((factor,lag))\n",
    "        print('done')"
   ]
  },
  {
   "cell_type": "code",
   "execution_count": null,
   "id": "5ed5c904",
   "metadata": {},
   "outputs": [],
   "source": [
    "models.keys()"
   ]
  },
  {
   "cell_type": "markdown",
   "id": "c85e9ada",
   "metadata": {},
   "source": [
    "Find model with lowest information criterion"
   ]
  },
  {
   "cell_type": "code",
   "execution_count": null,
   "id": "12800778",
   "metadata": {
    "scrolled": true
   },
   "outputs": [],
   "source": [
    "models_min_ic = find_min_ic(models)\n",
    "mod_ic = 'bic'\n",
    "use_model = models[models_min_ic[mod_ic][0]]"
   ]
  },
  {
   "cell_type": "markdown",
   "id": "abf7de12",
   "metadata": {},
   "source": [
    "Compare actual vs predicted"
   ]
  },
  {
   "cell_type": "code",
   "execution_count": null,
   "id": "0f5ee09c",
   "metadata": {
    "scrolled": false
   },
   "outputs": [],
   "source": [
    "pred = use_model['model'].predict()\n",
    "compare_df = compare(ts_df, pred)\n",
    "compare_df.iloc[-(4*10):].plot(title=f\"{variables.dep[0]}\\nDynamic factor model\\n\\\n",
    "(Factors: {models_min_ic[mod_ic][0][0]}, Order: {models_min_ic[mod_ic][0][1]})\")"
   ]
  },
  {
   "cell_type": "code",
   "execution_count": null,
   "id": "cd26e87e",
   "metadata": {
    "scrolled": true
   },
   "outputs": [],
   "source": [
    "mean_sq_err = mse(compare_df['Actual'], compare_df['Predicted'])\n",
    "print(f'In-sample MSE of GDP DF forecast: {round(mean_sq_err,3)}')"
   ]
  },
  {
   "cell_type": "markdown",
   "id": "ea518034",
   "metadata": {},
   "source": [
    "Pseudo out-of-sample forecasts, i.e., train on x% of dataset, test on (1-x)%"
   ]
  },
  {
   "cell_type": "code",
   "execution_count": null,
   "id": "0b693fa5",
   "metadata": {},
   "outputs": [],
   "source": [
    "train_ts, test_ts = split_train_test(ts_df, train_ratio)"
   ]
  },
  {
   "cell_type": "code",
   "execution_count": null,
   "id": "8d95015d",
   "metadata": {
    "scrolled": true
   },
   "outputs": [],
   "source": [
    "oos_models = {}\n",
    "with np.errstate(divide='ignore'):\n",
    "    for factor in range(1, max_factors+1):\n",
    "        for lag in range(1, max_lags+1):\n",
    "            print(f'({factor}, {lag})', end=' ')\n",
    "            oos_models[(factor,lag)] = run_train_test(ts_df, train_ts, forecast_steps, factor, lag)\n",
    "\n",
    "            # if model does not converge, remove from dict\n",
    "            if not oos_models[(factor,lag)]:\n",
    "                oos_models.pop((factor,lag))\n",
    "            print('done')"
   ]
  },
  {
   "cell_type": "code",
   "execution_count": null,
   "id": "45ee8b8e",
   "metadata": {},
   "outputs": [],
   "source": [
    "oos_models.keys()"
   ]
  },
  {
   "cell_type": "code",
   "execution_count": null,
   "id": "d982d1b4",
   "metadata": {},
   "outputs": [],
   "source": [
    "oos_models_min_ic = find_min_ic(oos_models)\n",
    "oos_ic = 'bic'\n",
    "use_oos_model = oos_models[oos_models_min_ic[oos_ic][0]]"
   ]
  },
  {
   "cell_type": "code",
   "execution_count": null,
   "id": "6095028e",
   "metadata": {},
   "outputs": [],
   "source": [
    "pred_oos = use_oos_model['model'].predict()\n",
    "compare_oos = compare(ts_df, pred_oos)\n",
    "compare_oos.iloc[-(4*10):].plot(title=f\"{variables.dep[0]}\\nDynamic factor model\\n\\\n",
    "(Factors: {oos_models_min_ic[oos_ic][0][0]}, Order: {oos_models_min_ic[oos_ic][0][1]})\")"
   ]
  },
  {
   "cell_type": "code",
   "execution_count": null,
   "id": "b5d9b636",
   "metadata": {},
   "outputs": [],
   "source": [
    "mean_sq_err_oos = mse(compare_oos['Actual'], compare_oos['Predicted'])\n",
    "print(f'Out-of-sample MSE of GDP DF forecast: {round(mean_sq_err_oos,3)}')"
   ]
  },
  {
   "cell_type": "markdown",
   "id": "e7de98ed",
   "metadata": {},
   "source": [
    "Run an AR model as a baseline vs DF"
   ]
  },
  {
   "cell_type": "code",
   "execution_count": null,
   "id": "104996b0",
   "metadata": {
    "scrolled": true
   },
   "outputs": [],
   "source": [
    "ar_df = ts_df[variables.dep].dropna()"
   ]
  },
  {
   "cell_type": "code",
   "execution_count": null,
   "id": "bd943da2",
   "metadata": {},
   "outputs": [],
   "source": [
    "if adfuller(ar_df[variables.dep[0]])[1]>0.05:\n",
    "    print(f'[Non-stationary] {variables.dep[0]}')\n",
    "else:\n",
    "    print(f'[Stationary] {variables.dep[0]}')"
   ]
  },
  {
   "cell_type": "code",
   "execution_count": null,
   "id": "d1a2c737",
   "metadata": {},
   "outputs": [],
   "source": [
    "ar_models = {(p,0,0):None for p in range(1,max_ar)}"
   ]
  },
  {
   "cell_type": "code",
   "execution_count": null,
   "id": "91f3f051",
   "metadata": {},
   "outputs": [],
   "source": [
    "for i in ar_models:\n",
    "    print(f'{i}', end=' ')\n",
    "    ar_models[i] = {'model':ARIMA(ar_df[variables.dep[0]], order=i).fit()}\n",
    "    for ic in ics:\n",
    "        ar_models[i][ic] = getattr(ar_models[i]['model'], ic)\n",
    "    print('done')"
   ]
  },
  {
   "cell_type": "code",
   "execution_count": null,
   "id": "6ab5dc41",
   "metadata": {},
   "outputs": [],
   "source": [
    "ar_models_min_ic = find_min_ic(ar_models)\n",
    "ar_ic = 'aic'\n",
    "use_ar_model = ar_models[ar_models_min_ic[ar_ic][0]]"
   ]
  },
  {
   "cell_type": "code",
   "execution_count": null,
   "id": "adf6f201",
   "metadata": {
    "scrolled": false
   },
   "outputs": [],
   "source": [
    "pred_ar = pd.DataFrame(use_ar_model['model'].predict())\n",
    "pred_ar.columns = variables.dep\n",
    "compare_ar = compare(ts_df, pred_ar)\n",
    "compare_ar.iloc[-(4*10):].plot(title=f\"{variables.dep[0]}\\nARIMA\\n\\\n",
    "(p: {ar_models_min_ic[ar_ic][0][0]}, d: {ar_models_min_ic[ar_ic][0][1]}, q: {ar_models_min_ic[ar_ic][0][2]})\")"
   ]
  },
  {
   "cell_type": "code",
   "execution_count": null,
   "id": "ecb4e33d",
   "metadata": {
    "scrolled": true
   },
   "outputs": [],
   "source": [
    "mean_sq_err_ar = mse(compare_ar['Actual'], compare_ar['Predicted'])\n",
    "print(f'In-sample MSE of GDP AR forecast: {round(mean_sq_err_ar,3)}')"
   ]
  }
 ],
 "metadata": {
  "kernelspec": {
   "display_name": "Python 3 (ipykernel)",
   "language": "python",
   "name": "python3"
  },
  "language_info": {
   "codemirror_mode": {
    "name": "ipython",
    "version": 3
   },
   "file_extension": ".py",
   "mimetype": "text/x-python",
   "name": "python",
   "nbconvert_exporter": "python",
   "pygments_lexer": "ipython3",
   "version": "3.9.16"
  }
 },
 "nbformat": 4,
 "nbformat_minor": 5
}
